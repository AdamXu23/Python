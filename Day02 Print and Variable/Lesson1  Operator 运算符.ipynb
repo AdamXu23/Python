{
 "cells": [
  {
   "cell_type": "markdown",
   "id": "c9cacb76",
   "metadata": {},
   "source": [
    "# 运算符"
   ]
  },
  {
   "cell_type": "markdown",
   "id": "0ddd9c0a",
   "metadata": {},
   "source": [
    "## 1) 算术运算符"
   ]
  },
  {
   "cell_type": "markdown",
   "id": "744d191a",
   "metadata": {},
   "source": [
    "### 1. 加法 a+b"
   ]
  },
  {
   "cell_type": "code",
   "execution_count": 1,
   "id": "5b738301",
   "metadata": {},
   "outputs": [
    {
     "name": "stdout",
     "output_type": "stream",
     "text": [
      "var1_1 = 13 \ttype: <class 'int'>\n"
     ]
    }
   ],
   "source": [
    "var1_1 =5+8\n",
    "print('var1_1 =',var1_1,'\\ttype:',type(var1_1))"
   ]
  },
  {
   "cell_type": "markdown",
   "id": "0ae24366",
   "metadata": {},
   "source": [
    "### 2. 減法 a-b"
   ]
  },
  {
   "cell_type": "code",
   "execution_count": 2,
   "id": "540faeaf",
   "metadata": {},
   "outputs": [
    {
     "name": "stdout",
     "output_type": "stream",
     "text": [
      "var1_1 = 80 \ttype: <class 'int'>\n"
     ]
    }
   ],
   "source": [
    "var1_1 =90-10\n",
    "print('var1_1 =',var1_1,'\\ttype:',type(var1_1))"
   ]
  },
  {
   "cell_type": "markdown",
   "id": "cf223941",
   "metadata": {},
   "source": [
    "### 3. 乘法 a*b"
   ]
  },
  {
   "cell_type": "code",
   "execution_count": 3,
   "id": "20a3e14c",
   "metadata": {},
   "outputs": [
    {
     "name": "stdout",
     "output_type": "stream",
     "text": [
      "var1_1 = 28 \ttype: <class 'int'>\n"
     ]
    }
   ],
   "source": [
    "var1_1 =4*7\n",
    "print('var1_1 =',var1_1,'\\ttype:',type(var1_1))"
   ]
  },
  {
   "cell_type": "markdown",
   "id": "cc268010",
   "metadata": {},
   "source": [
    "### 4. 除法 a/b"
   ]
  },
  {
   "cell_type": "code",
   "execution_count": 4,
   "id": "a6edb3bb",
   "metadata": {},
   "outputs": [
    {
     "name": "stdout",
     "output_type": "stream",
     "text": [
      "var1_1 = 3.5 \ttype: <class 'float'>\n"
     ]
    }
   ],
   "source": [
    "var1_1 =7/2\n",
    "print('var1_1 =',var1_1,'\\ttype:',type(var1_1))"
   ]
  },
  {
   "cell_type": "markdown",
   "id": "be4b5e82",
   "metadata": {},
   "source": [
    "### 5. 取整除 a//b"
   ]
  },
  {
   "cell_type": "code",
   "execution_count": 5,
   "id": "b46276c5",
   "metadata": {},
   "outputs": [
    {
     "name": "stdout",
     "output_type": "stream",
     "text": [
      "var1_1 = 3 \ttype: <class 'int'>\n"
     ]
    }
   ],
   "source": [
    "var1_1 =7//2\n",
    "print('var1_1 =',var1_1,'\\ttype:',type(var1_1))"
   ]
  },
  {
   "cell_type": "markdown",
   "id": "1fa569c3",
   "metadata": {},
   "source": [
    "### 6. 餘數 a%b"
   ]
  },
  {
   "cell_type": "code",
   "execution_count": 6,
   "id": "8378b35f",
   "metadata": {},
   "outputs": [
    {
     "name": "stdout",
     "output_type": "stream",
     "text": [
      "var1_1 = 1 \ttype: <class 'int'>\n"
     ]
    }
   ],
   "source": [
    "var1_1 =7%2\n",
    "print('var1_1 =',var1_1,'\\ttype:',type(var1_1))"
   ]
  },
  {
   "cell_type": "markdown",
   "id": "2a477fc3",
   "metadata": {},
   "source": [
    "### 7. 幂 a**b"
   ]
  },
  {
   "cell_type": "code",
   "execution_count": 7,
   "id": "4499fdd1",
   "metadata": {},
   "outputs": [
    {
     "name": "stdout",
     "output_type": "stream",
     "text": [
      "var1_1 = 81 \ttype: <class 'int'>\n"
     ]
    }
   ],
   "source": [
    "var1_1 =3**4\n",
    "print('var1_1 =',var1_1,'\\ttype:',type(var1_1))"
   ]
  },
  {
   "cell_type": "code",
   "execution_count": null,
   "id": "eb1f802d",
   "metadata": {},
   "outputs": [],
   "source": []
  }
 ],
 "metadata": {
  "kernelspec": {
   "display_name": "Python 3 (ipykernel)",
   "language": "python",
   "name": "python3"
  },
  "language_info": {
   "codemirror_mode": {
    "name": "ipython",
    "version": 3
   },
   "file_extension": ".py",
   "mimetype": "text/x-python",
   "name": "python",
   "nbconvert_exporter": "python",
   "pygments_lexer": "ipython3",
   "version": "3.9.7"
  }
 },
 "nbformat": 4,
 "nbformat_minor": 5
}
