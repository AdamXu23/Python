{
 "cells": [
  {
   "cell_type": "markdown",
   "id": "1c58f8fe",
   "metadata": {},
   "source": [
    "### 輸出hello world"
   ]
  },
  {
   "cell_type": "code",
   "execution_count": 1,
   "id": "a9ea23dd",
   "metadata": {},
   "outputs": [
    {
     "name": "stdout",
     "output_type": "stream",
     "text": [
      "hello world\n"
     ]
    }
   ],
   "source": [
    "print(\"hello world\")"
   ]
  },
  {
   "cell_type": "markdown",
   "id": "66e82335",
   "metadata": {},
   "source": [
    "### 建立變數"
   ]
  },
  {
   "cell_type": "code",
   "execution_count": 2,
   "id": "496fd719",
   "metadata": {},
   "outputs": [
    {
     "name": "stdout",
     "output_type": "stream",
     "text": [
      "1970\n"
     ]
    }
   ],
   "source": [
    "year = 1970\n",
    "print(year)"
   ]
  },
  {
   "cell_type": "markdown",
   "id": "6cae5a53",
   "metadata": {},
   "source": [
    "### 修改變數"
   ]
  },
  {
   "cell_type": "code",
   "execution_count": 3,
   "id": "0d86f604",
   "metadata": {},
   "outputs": [
    {
     "data": {
      "text/plain": [
       "2021"
      ]
     },
     "execution_count": 3,
     "metadata": {},
     "output_type": "execute_result"
    }
   ],
   "source": [
    "year = 2021\n",
    "year"
   ]
  },
  {
   "cell_type": "markdown",
   "id": "499327f6",
   "metadata": {},
   "source": [
    "### 輸出計算結果"
   ]
  },
  {
   "cell_type": "code",
   "execution_count": 4,
   "id": "56ad691b",
   "metadata": {},
   "outputs": [
    {
     "name": "stdout",
     "output_type": "stream",
     "text": [
      "a= 100\n",
      "b= 50\n",
      "a+b= 150\n"
     ]
    }
   ],
   "source": [
    "a = 100\n",
    "print(\"a=\", a)\n",
    "b = 50\n",
    "print(\"b=\", b)\n",
    "print(\"a+b=\", a+b)"
   ]
  },
  {
   "cell_type": "markdown",
   "id": "e7f50f3b",
   "metadata": {},
   "source": [
    "### 變數的動態形別"
   ]
  },
  {
   "cell_type": "code",
   "execution_count": 13,
   "id": "e543731c",
   "metadata": {},
   "outputs": [
    {
     "name": "stdout",
     "output_type": "stream",
     "text": [
      "var1 = 57 \ttype: <class 'int'>\n",
      "var2 = 57.0 \ttype: <class 'float'>\n",
      "var3 = 57 \ttype: <class 'str'>\n",
      "var4 = True \ttype: <class 'bool'>\n",
      "var1 + var2 = 114.0 \ttype: <class 'float'>\n"
     ]
    }
   ],
   "source": [
    "var1 = 57\n",
    "print('var1 =',var1,'\\ttype:',type(var1))\n",
    "var2 = 57.0\n",
    "print('var2 =',var2,'\\ttype:',type(var2))\n",
    "var3 = \"57\"\n",
    "print('var3 =',var3,'\\ttype:',type(var3))\n",
    "var4 = True\n",
    "print('var4 =',var4,'\\ttype:',type(var4))\n",
    "print('var1 + var2 =',var1 + var2,'\\ttype:',type(var1 + var2))"
   ]
  },
  {
   "cell_type": "markdown",
   "id": "6eddd6bf",
   "metadata": {},
   "source": [
    "### 變數大小幾乎無上限"
   ]
  },
  {
   "cell_type": "code",
   "execution_count": 15,
   "id": "c43fcd2d",
   "metadata": {},
   "outputs": [
    {
     "name": "stdout",
     "output_type": "stream",
     "text": [
      "2323057227982592441500937982514410000\n",
      "<class 'int'>\n"
     ]
    }
   ],
   "source": [
    "var1_1 = (1234567890*1234567890)**2\n",
    "print(var1_1)\n",
    "print(type(var1_1))"
   ]
  },
  {
   "cell_type": "markdown",
   "id": "3f665d45",
   "metadata": {},
   "source": [
    "### 變數的動態形別自動轉換"
   ]
  },
  {
   "cell_type": "code",
   "execution_count": null,
   "id": "22033615",
   "metadata": {},
   "outputs": [],
   "source": []
  }
 ],
 "metadata": {
  "kernelspec": {
   "display_name": "Python 3 (ipykernel)",
   "language": "python",
   "name": "python3"
  },
  "language_info": {
   "codemirror_mode": {
    "name": "ipython",
    "version": 3
   },
   "file_extension": ".py",
   "mimetype": "text/x-python",
   "name": "python",
   "nbconvert_exporter": "python",
   "pygments_lexer": "ipython3",
   "version": "3.9.7"
  }
 },
 "nbformat": 4,
 "nbformat_minor": 5
}
