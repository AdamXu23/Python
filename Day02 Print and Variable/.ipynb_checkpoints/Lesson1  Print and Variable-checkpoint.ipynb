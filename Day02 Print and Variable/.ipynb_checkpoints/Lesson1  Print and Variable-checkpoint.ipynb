{
 "cells": [
  {
   "cell_type": "markdown",
   "id": "4637add2",
   "metadata": {},
   "source": [
    "### 輸出hello world"
   ]
  },
  {
   "cell_type": "code",
   "execution_count": 1,
   "id": "913f5f84",
   "metadata": {},
   "outputs": [
    {
     "name": "stdout",
     "output_type": "stream",
     "text": [
      "hello world\n"
     ]
    }
   ],
   "source": [
    "print(\"hello world\")"
   ]
  },
  {
   "cell_type": "markdown",
   "id": "2bac4eb3",
   "metadata": {},
   "source": [
    "### 建立變數"
   ]
  },
  {
   "cell_type": "code",
   "execution_count": 2,
   "id": "6ec92f3b",
   "metadata": {},
   "outputs": [
    {
     "name": "stdout",
     "output_type": "stream",
     "text": [
      "1970\n"
     ]
    }
   ],
   "source": [
    "year = 1970\n",
    "print(year)"
   ]
  },
  {
   "cell_type": "markdown",
   "id": "c3055c0c",
   "metadata": {},
   "source": [
    "### 修改變數"
   ]
  },
  {
   "cell_type": "code",
   "execution_count": 3,
   "id": "31ebfc8a",
   "metadata": {},
   "outputs": [
    {
     "data": {
      "text/plain": [
       "2021"
      ]
     },
     "execution_count": 3,
     "metadata": {},
     "output_type": "execute_result"
    }
   ],
   "source": [
    "year = 2021\n",
    "year"
   ]
  },
  {
   "cell_type": "markdown",
   "id": "5e7bbdde",
   "metadata": {},
   "source": [
    "### 輸出計算結果"
   ]
  },
  {
   "cell_type": "code",
   "execution_count": 4,
   "id": "3d369c05",
   "metadata": {},
   "outputs": [
    {
     "name": "stdout",
     "output_type": "stream",
     "text": [
      "a= 100\n",
      "b= 50\n",
      "a+b= 150\n"
     ]
    }
   ],
   "source": [
    "a = 100\n",
    "print(\"a=\", a)\n",
    "b = 50\n",
    "print(\"b=\", b)\n",
    "print(\"a+b=\", a+b)"
   ]
  },
  {
   "cell_type": "markdown",
   "id": "d4ff42f6",
   "metadata": {},
   "source": [
    "### 變數的動態形別"
   ]
  },
  {
   "cell_type": "code",
   "execution_count": 13,
   "id": "df726fd6",
   "metadata": {},
   "outputs": [
    {
     "name": "stdout",
     "output_type": "stream",
     "text": [
      "var1 = 57 \ttype: <class 'int'>\n",
      "var2 = 57.0 \ttype: <class 'float'>\n",
      "var3 = 57 \ttype: <class 'str'>\n",
      "var4 = True \ttype: <class 'bool'>\n",
      "var1 + var2 = 114.0 \ttype: <class 'float'>\n"
     ]
    }
   ],
   "source": [
    "var1 = 57\n",
    "print('var1 =',var1,'\\ttype:',type(var1))\n",
    "var2 = 57.0\n",
    "print('var2 =',var2,'\\ttype:',type(var2))\n",
    "var3 = \"57\"\n",
    "print('var3 =',var3,'\\ttype:',type(var3))\n",
    "var4 = True\n",
    "print('var4 =',var4,'\\ttype:',type(var4))\n",
    "print('var1 + var2 =',var1 + var2,'\\ttype:',type(var1 + var2))"
   ]
  },
  {
   "cell_type": "markdown",
   "id": "703f3e7c",
   "metadata": {},
   "source": [
    "### 變數大小幾乎無上限"
   ]
  },
  {
   "cell_type": "code",
   "execution_count": 15,
   "id": "19a721bd",
   "metadata": {},
   "outputs": [
    {
     "name": "stdout",
     "output_type": "stream",
     "text": [
      "2323057227982592441500937982514410000\n",
      "<class 'int'>\n"
     ]
    }
   ],
   "source": [
    "var1_1 = (1234567890*1234567890)**2\n",
    "print(var1_1)\n",
    "print(type(var1_1))"
   ]
  },
  {
   "cell_type": "markdown",
   "id": "68e69cdc",
   "metadata": {},
   "source": [
    "### 變數的動態形別自動轉換"
   ]
  },
  {
   "cell_type": "code",
   "execution_count": null,
   "id": "29f39077",
   "metadata": {},
   "outputs": [],
   "source": []
  }
 ],
 "metadata": {
  "kernelspec": {
   "display_name": "Python 3 (ipykernel)",
   "language": "python",
   "name": "python3"
  },
  "language_info": {
   "codemirror_mode": {
    "name": "ipython",
    "version": 3
   },
   "file_extension": ".py",
   "mimetype": "text/x-python",
   "name": "python",
   "nbconvert_exporter": "python",
   "pygments_lexer": "ipython3",
   "version": "3.9.7"
  }
 },
 "nbformat": 4,
 "nbformat_minor": 5
}
