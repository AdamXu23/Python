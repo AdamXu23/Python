{
 "cells": [
  {
   "cell_type": "markdown",
   "id": "cd6ad8dd",
   "metadata": {},
   "source": [
    "# 运算符"
   ]
  },
  {
   "cell_type": "markdown",
   "id": "5b33ebd8",
   "metadata": {},
   "source": [
    "## 1) 算术运算符"
   ]
  },
  {
   "cell_type": "markdown",
   "id": "9bacd7d4",
   "metadata": {},
   "source": [
    "### 1. 加法 a+b"
   ]
  },
  {
   "cell_type": "code",
   "execution_count": 1,
   "id": "8d13ba2e",
   "metadata": {},
   "outputs": [
    {
     "name": "stdout",
     "output_type": "stream",
     "text": [
      "var1_1 = 13 \ttype: <class 'int'>\n"
     ]
    }
   ],
   "source": [
    "var1_1 =5+8\n",
    "print('var1_1 =',var1_1,'\\ttype:',type(var1_1))"
   ]
  },
  {
   "cell_type": "markdown",
   "id": "45078a97",
   "metadata": {},
   "source": [
    "### 2. 減法 a-b"
   ]
  },
  {
   "cell_type": "code",
   "execution_count": 2,
   "id": "04f208d0",
   "metadata": {},
   "outputs": [
    {
     "name": "stdout",
     "output_type": "stream",
     "text": [
      "var1_1 = 80 \ttype: <class 'int'>\n"
     ]
    }
   ],
   "source": [
    "var1_1 =90-10\n",
    "print('var1_1 =',var1_1,'\\ttype:',type(var1_1))"
   ]
  },
  {
   "cell_type": "markdown",
   "id": "a92411f6",
   "metadata": {},
   "source": [
    "### 3. 乘法 a*b"
   ]
  },
  {
   "cell_type": "code",
   "execution_count": 3,
   "id": "6d76b15a",
   "metadata": {},
   "outputs": [
    {
     "name": "stdout",
     "output_type": "stream",
     "text": [
      "var1_1 = 28 \ttype: <class 'int'>\n"
     ]
    }
   ],
   "source": [
    "var1_1 =4*7\n",
    "print('var1_1 =',var1_1,'\\ttype:',type(var1_1))"
   ]
  },
  {
   "cell_type": "markdown",
   "id": "e7ccffa3",
   "metadata": {},
   "source": [
    "### 4. 除法 a/b"
   ]
  },
  {
   "cell_type": "code",
   "execution_count": 4,
   "id": "3f24e3f2",
   "metadata": {},
   "outputs": [
    {
     "name": "stdout",
     "output_type": "stream",
     "text": [
      "var1_1 = 3.5 \ttype: <class 'float'>\n"
     ]
    }
   ],
   "source": [
    "var1_1 =7/2\n",
    "print('var1_1 =',var1_1,'\\ttype:',type(var1_1))"
   ]
  },
  {
   "cell_type": "markdown",
   "id": "de4c3d4f",
   "metadata": {},
   "source": [
    "### 5. 取整除 a//b"
   ]
  },
  {
   "cell_type": "code",
   "execution_count": 5,
   "id": "9cd80760",
   "metadata": {},
   "outputs": [
    {
     "name": "stdout",
     "output_type": "stream",
     "text": [
      "var1_1 = 3 \ttype: <class 'int'>\n"
     ]
    }
   ],
   "source": [
    "var1_1 =7//2\n",
    "print('var1_1 =',var1_1,'\\ttype:',type(var1_1))"
   ]
  },
  {
   "cell_type": "markdown",
   "id": "afab2ff5",
   "metadata": {},
   "source": [
    "### 6. 餘數 a%b"
   ]
  },
  {
   "cell_type": "code",
   "execution_count": 6,
   "id": "86b84513",
   "metadata": {},
   "outputs": [
    {
     "name": "stdout",
     "output_type": "stream",
     "text": [
      "var1_1 = 1 \ttype: <class 'int'>\n"
     ]
    }
   ],
   "source": [
    "var1_1 =7%2\n",
    "print('var1_1 =',var1_1,'\\ttype:',type(var1_1))"
   ]
  },
  {
   "cell_type": "markdown",
   "id": "309b370f",
   "metadata": {},
   "source": [
    "### 7. 幂 a**b"
   ]
  },
  {
   "cell_type": "code",
   "execution_count": 7,
   "id": "55f7ff01",
   "metadata": {},
   "outputs": [
    {
     "name": "stdout",
     "output_type": "stream",
     "text": [
      "var1_1 = 81 \ttype: <class 'int'>\n"
     ]
    }
   ],
   "source": [
    "var1_1 =3**4\n",
    "print('var1_1 =',var1_1,'\\ttype:',type(var1_1))"
   ]
  },
  {
   "cell_type": "code",
   "execution_count": null,
   "id": "64475de2",
   "metadata": {},
   "outputs": [],
   "source": []
  }
 ],
 "metadata": {
  "kernelspec": {
   "display_name": "Python 3 (ipykernel)",
   "language": "python",
   "name": "python3"
  },
  "language_info": {
   "codemirror_mode": {
    "name": "ipython",
    "version": 3
   },
   "file_extension": ".py",
   "mimetype": "text/x-python",
   "name": "python",
   "nbconvert_exporter": "python",
   "pygments_lexer": "ipython3",
   "version": "3.9.7"
  }
 },
 "nbformat": 4,
 "nbformat_minor": 5
}
