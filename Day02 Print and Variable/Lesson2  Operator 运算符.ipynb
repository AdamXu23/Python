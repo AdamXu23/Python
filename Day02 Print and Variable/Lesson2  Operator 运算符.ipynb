{
 "cells": [
  {
   "cell_type": "markdown",
   "id": "658fba09",
   "metadata": {},
   "source": [
    "# 运算符"
   ]
  },
  {
   "cell_type": "markdown",
   "id": "5b33ebd8",
   "metadata": {},
   "source": [
    "## 1算术运算符"
   ]
  },
  {
   "cell_type": "markdown",
   "id": "d87dddf1",
   "metadata": {},
   "source": [
    "|  运算符  |  描述  |\n",
    "|  :----:  |  :----:  |\n",
    "|  +  |  加  |\n",
    "|  -  |  减  |\n",
    "|  *  |  乘  |\n",
    "|  /  |  除  |\n",
    "|  %  |  取模  |\n",
    "|  **  |  幂  |\n",
    "|  //  |  取整除  |\n"
   ]
  },
  {
   "cell_type": "markdown",
   "id": "9bacd7d4",
   "metadata": {},
   "source": [
    "### 1. + (加) a + b"
   ]
  },
  {
   "cell_type": "code",
   "execution_count": 1,
   "id": "8d13ba2e",
   "metadata": {},
   "outputs": [
    {
     "name": "stdout",
     "output_type": "stream",
     "text": [
      "var1_1 = 13 \ttype: <class 'int'>\n"
     ]
    }
   ],
   "source": [
    "var1_1 =5+8\n",
    "print('var1_1 =',var1_1,'\\ttype:',type(var1_1))"
   ]
  },
  {
   "cell_type": "markdown",
   "id": "45078a97",
   "metadata": {},
   "source": [
    "### 2. - (減) a - b"
   ]
  },
  {
   "cell_type": "code",
   "execution_count": 2,
   "id": "04f208d0",
   "metadata": {},
   "outputs": [
    {
     "name": "stdout",
     "output_type": "stream",
     "text": [
      "var1_1 = 80 \ttype: <class 'int'>\n"
     ]
    }
   ],
   "source": [
    "var1_1 =90-10\n",
    "print('var1_1 =',var1_1,'\\ttype:',type(var1_1))"
   ]
  },
  {
   "cell_type": "markdown",
   "id": "a92411f6",
   "metadata": {},
   "source": [
    "### 3. * (乘) a * b ($a*b$)"
   ]
  },
  {
   "cell_type": "code",
   "execution_count": 3,
   "id": "6d76b15a",
   "metadata": {},
   "outputs": [
    {
     "name": "stdout",
     "output_type": "stream",
     "text": [
      "var1_1 = 28 \ttype: <class 'int'>\n"
     ]
    }
   ],
   "source": [
    "var1_1 =4*7\n",
    "print('var1_1 =',var1_1,'\\ttype:',type(var1_1))"
   ]
  },
  {
   "cell_type": "markdown",
   "id": "e7ccffa3",
   "metadata": {},
   "source": [
    "### 4. / (除法) a / b    ($\\frac{a}{b}$)"
   ]
  },
  {
   "cell_type": "code",
   "execution_count": 4,
   "id": "3f24e3f2",
   "metadata": {},
   "outputs": [
    {
     "name": "stdout",
     "output_type": "stream",
     "text": [
      "var1_1 = 3.5 \ttype: <class 'float'>\n"
     ]
    }
   ],
   "source": [
    "var1_1 =7/2\n",
    "print('var1_1 =',var1_1,'\\ttype:',type(var1_1))"
   ]
  },
  {
   "cell_type": "markdown",
   "id": "9c9ade5c",
   "metadata": {},
   "source": [
    "### 5. % (取模) a % b"
   ]
  },
  {
   "cell_type": "code",
   "execution_count": 5,
   "id": "631fd417",
   "metadata": {},
   "outputs": [
    {
     "name": "stdout",
     "output_type": "stream",
     "text": [
      "var1_1 = 1 \ttype: <class 'int'>\n"
     ]
    }
   ],
   "source": [
    "var1_1 =7%2\n",
    "print('var1_1 =',var1_1,'\\ttype:',type(var1_1))"
   ]
  },
  {
   "cell_type": "markdown",
   "id": "19f8e5f5",
   "metadata": {},
   "source": [
    "### 6. ** (幂)   a ** b   ($a^b$)"
   ]
  },
  {
   "cell_type": "code",
   "execution_count": 6,
   "id": "c1151cd8",
   "metadata": {},
   "outputs": [
    {
     "name": "stdout",
     "output_type": "stream",
     "text": [
      "var1_1 = 81 \ttype: <class 'int'>\n"
     ]
    }
   ],
   "source": [
    "var1_1 =3**4\n",
    "print('var1_1 =',var1_1,'\\ttype:',type(var1_1))"
   ]
  },
  {
   "cell_type": "markdown",
   "id": "de4c3d4f",
   "metadata": {},
   "source": [
    "### 7. // (取整除) a // b"
   ]
  },
  {
   "cell_type": "code",
   "execution_count": 7,
   "id": "9cd80760",
   "metadata": {},
   "outputs": [
    {
     "name": "stdout",
     "output_type": "stream",
     "text": [
      "var1_1 = 3 \ttype: <class 'int'>\n"
     ]
    }
   ],
   "source": [
    "var1_1 =7//2\n",
    "print('var1_1 =',var1_1,'\\ttype:',type(var1_1))"
   ]
  },
  {
   "cell_type": "markdown",
   "id": "4f7e13dd",
   "metadata": {},
   "source": [
    "## 2比较运算符"
   ]
  },
  {
   "cell_type": "markdown",
   "id": "6c6b4697",
   "metadata": {},
   "source": [
    "|  运算符  |  描述  |\n",
    "|  :----:  |  :----:  |\n",
    "|  ==  |  等于  |\n",
    "|  !=  |  不等于  |\n",
    "|  >  |  大于  |\n",
    "|  <  |  小于  |\n",
    "|  >=  |  大于等于  |\n",
    "|  <=  |  小于等于  |"
   ]
  },
  {
   "cell_type": "markdown",
   "id": "c32d3273",
   "metadata": {},
   "source": [
    "### 1. == (等于) a == b"
   ]
  },
  {
   "cell_type": "code",
   "execution_count": 23,
   "id": "973fff2b",
   "metadata": {},
   "outputs": [
    {
     "name": "stdout",
     "output_type": "stream",
     "text": [
      "var1(20)==var2(30) => 0 \n",
      "var1(20)==var2(20) => 1 \n"
     ]
    }
   ],
   "source": [
    "var1=20\n",
    "var2=30\n",
    "var3= var1==var2\n",
    "print(\"var1(%d)==var2(%d) => %d \"%(var1,var2,var3))\n",
    "var1=20\n",
    "var2=20\n",
    "var3= var1==var2\n",
    "print(\"var1(%d)==var2(%d) => %d \"%(var1,var2,var3))"
   ]
  },
  {
   "cell_type": "markdown",
   "id": "7a4a6348",
   "metadata": {},
   "source": [
    "### 2. != (不等于) a != b"
   ]
  },
  {
   "cell_type": "code",
   "execution_count": 22,
   "id": "635d7dee",
   "metadata": {},
   "outputs": [
    {
     "name": "stdout",
     "output_type": "stream",
     "text": [
      "var1(20)!=var2(30) => 1 \n",
      "var1(20)!=var2(20) => 0 \n"
     ]
    }
   ],
   "source": [
    "var1=20\n",
    "var2=30\n",
    "var3= var1!=var2\n",
    "print(\"var1(%d)!=var2(%d) => %d \"%(var1,var2,var3))\n",
    "var1=20\n",
    "var2=20\n",
    "var3= var1!=var2\n",
    "print(\"var1(%d)!=var2(%d) => %d \"%(var1,var2,var3))"
   ]
  },
  {
   "cell_type": "markdown",
   "id": "142e96e4",
   "metadata": {},
   "source": [
    "### 3. < (大于) a < b"
   ]
  },
  {
   "cell_type": "code",
   "execution_count": 28,
   "id": "815032b3",
   "metadata": {},
   "outputs": [
    {
     "name": "stdout",
     "output_type": "stream",
     "text": [
      "var1(20)<var2(30) => 1 \n",
      "var1(20)<var2(20) => 0 \n",
      "var1(20)<var2(10) => 0 \n"
     ]
    }
   ],
   "source": [
    "var1=20\n",
    "var2=30\n",
    "var3= var1<var2\n",
    "print(\"var1(%d)<var2(%d) => %d \"%(var1,var2,var3))\n",
    "var2=20\n",
    "var3= var1<var2\n",
    "print(\"var1(%d)<var2(%d) => %d \"%(var1,var2,var3))\n",
    "var2=10\n",
    "var3= var1<var2\n",
    "print(\"var1(%d)<var2(%d) => %d \"%(var1,var2,var3))"
   ]
  },
  {
   "cell_type": "markdown",
   "id": "55e9dbac",
   "metadata": {},
   "source": [
    "### 4. > (小于) a > b"
   ]
  },
  {
   "cell_type": "code",
   "execution_count": 26,
   "id": "38f15b45",
   "metadata": {},
   "outputs": [
    {
     "name": "stdout",
     "output_type": "stream",
     "text": [
      "var1(20)>var2(30) => 0 \n",
      "var1(20)>var2(20) => 0 \n",
      "var1(20)>var2(10) => 1 \n"
     ]
    }
   ],
   "source": [
    "var1=20\n",
    "var2=30\n",
    "var3= var1>var2\n",
    "print(\"var1(%d)>var2(%d) => %d \"%(var1,var2,var3))\n",
    "var2=20\n",
    "var3= var1>var2\n",
    "print(\"var1(%d)>var2(%d) => %d \"%(var1,var2,var3))\n",
    "var2=10\n",
    "var3= var1>var2\n",
    "print(\"var1(%d)>var2(%d) => %d \"%(var1,var2,var3))"
   ]
  },
  {
   "cell_type": "markdown",
   "id": "1326cbe4",
   "metadata": {},
   "source": [
    "### 5. >= (大于等于) a >= b"
   ]
  },
  {
   "cell_type": "code",
   "execution_count": 16,
   "id": "d1d76e09",
   "metadata": {},
   "outputs": [
    {
     "name": "stdout",
     "output_type": "stream",
     "text": [
      "var1(20)>=var2(30) => 0 \n",
      "var1(20)>=var2(20) => 1 \n",
      "var1(20)>=var2(10) => 1 \n"
     ]
    }
   ],
   "source": [
    "var1=20\n",
    "var2=30\n",
    "var3= var1>=var2\n",
    "print(\"var1(%d)>=var2(%d) => %d \"%(var1,var2,var3))\n",
    "var2=20\n",
    "var3= var1>=var2\n",
    "print(\"var1(%d)>=var2(%d) => %d \"%(var1,var2,var3))\n",
    "var2=10\n",
    "var3= var1>=var2\n",
    "print(\"var1(%d)>=var2(%d) => %d \"%(var1,var2,var3))"
   ]
  },
  {
   "cell_type": "markdown",
   "id": "f2e1da43",
   "metadata": {},
   "source": [
    "### 6. <= (小于等于) a <= b"
   ]
  },
  {
   "cell_type": "code",
   "execution_count": 24,
   "id": "e90577c2",
   "metadata": {},
   "outputs": [
    {
     "name": "stdout",
     "output_type": "stream",
     "text": [
      "var1(20)>=var2(30) => 1 \n",
      "var1(20)>=var2(20) => 1 \n",
      "var1(20)>=var2(10) => 0 \n"
     ]
    }
   ],
   "source": [
    "var1=20\n",
    "var2=30\n",
    "var3= var1<=var2\n",
    "print(\"var1(%d)>=var2(%d) => %d \"%(var1,var2,var3))\n",
    "var2=20\n",
    "var3= var1<=var2\n",
    "print(\"var1(%d)>=var2(%d) => %d \"%(var1,var2,var3))\n",
    "var2=10\n",
    "var3= var1<=var2\n",
    "print(\"var1(%d)>=var2(%d) => %d \"%(var1,var2,var3))"
   ]
  },
  {
   "cell_type": "code",
   "execution_count": null,
   "id": "5e2dd2aa",
   "metadata": {},
   "outputs": [],
   "source": []
  }
 ],
 "metadata": {
  "kernelspec": {
   "display_name": "Python 3 (ipykernel)",
   "language": "python",
   "name": "python3"
  },
  "language_info": {
   "codemirror_mode": {
    "name": "ipython",
    "version": 3
   },
   "file_extension": ".py",
   "mimetype": "text/x-python",
   "name": "python",
   "nbconvert_exporter": "python",
   "pygments_lexer": "ipython3",
   "version": "3.9.7"
  }
 },
 "nbformat": 4,
 "nbformat_minor": 5
}
