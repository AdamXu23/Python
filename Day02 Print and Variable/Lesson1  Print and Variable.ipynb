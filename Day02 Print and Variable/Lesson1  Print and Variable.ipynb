{
 "cells": [
  {
   "cell_type": "markdown",
   "id": "528269db",
   "metadata": {},
   "source": [
    "### 輸出hello world"
   ]
  },
  {
   "cell_type": "code",
   "execution_count": 1,
   "id": "8d5628e2",
   "metadata": {},
   "outputs": [
    {
     "name": "stdout",
     "output_type": "stream",
     "text": [
      "hello world\n"
     ]
    }
   ],
   "source": [
    "print(\"hello world\")"
   ]
  },
  {
   "cell_type": "markdown",
   "id": "2cdff47c",
   "metadata": {},
   "source": [
    "### 建立變數"
   ]
  },
  {
   "cell_type": "code",
   "execution_count": 2,
   "id": "e13c0743",
   "metadata": {},
   "outputs": [
    {
     "name": "stdout",
     "output_type": "stream",
     "text": [
      "1970\n"
     ]
    }
   ],
   "source": [
    "year = 1970\n",
    "print(year)"
   ]
  },
  {
   "cell_type": "markdown",
   "id": "17dea71c",
   "metadata": {},
   "source": [
    "### 修改變數"
   ]
  },
  {
   "cell_type": "code",
   "execution_count": 3,
   "id": "77b0353b",
   "metadata": {},
   "outputs": [
    {
     "data": {
      "text/plain": [
       "2021"
      ]
     },
     "execution_count": 3,
     "metadata": {},
     "output_type": "execute_result"
    }
   ],
   "source": [
    "year = 2021\n",
    "year"
   ]
  },
  {
   "cell_type": "markdown",
   "id": "7e1e30a1",
   "metadata": {},
   "source": [
    "### 輸出計算結果"
   ]
  },
  {
   "cell_type": "code",
   "execution_count": 4,
   "id": "fc27bc56",
   "metadata": {},
   "outputs": [
    {
     "name": "stdout",
     "output_type": "stream",
     "text": [
      "a= 100\n",
      "b= 50\n",
      "a+b= 150\n"
     ]
    }
   ],
   "source": [
    "a = 100\n",
    "print(\"a=\", a)\n",
    "b = 50\n",
    "print(\"b=\", b)\n",
    "print(\"a+b=\", a+b)"
   ]
  },
  {
   "cell_type": "markdown",
   "id": "bfb78c3e",
   "metadata": {},
   "source": [
    "### 變數的動態形別"
   ]
  },
  {
   "cell_type": "code",
   "execution_count": 13,
   "id": "b247f164",
   "metadata": {},
   "outputs": [
    {
     "name": "stdout",
     "output_type": "stream",
     "text": [
      "var1 = 57 \ttype: <class 'int'>\n",
      "var2 = 57.0 \ttype: <class 'float'>\n",
      "var3 = 57 \ttype: <class 'str'>\n",
      "var4 = True \ttype: <class 'bool'>\n",
      "var1 + var2 = 114.0 \ttype: <class 'float'>\n"
     ]
    }
   ],
   "source": [
    "var1 = 57\n",
    "print('var1 =',var1,'\\ttype:',type(var1))\n",
    "var2 = 57.0\n",
    "print('var2 =',var2,'\\ttype:',type(var2))\n",
    "var3 = \"57\"\n",
    "print('var3 =',var3,'\\ttype:',type(var3))\n",
    "var4 = True\n",
    "print('var4 =',var4,'\\ttype:',type(var4))\n",
    "print('var1 + var2 =',var1 + var2,'\\ttype:',type(var1 + var2))"
   ]
  },
  {
   "cell_type": "markdown",
   "id": "58593978",
   "metadata": {},
   "source": [
    "### 變數大小幾乎無上限"
   ]
  },
  {
   "cell_type": "code",
   "execution_count": 15,
   "id": "c52fb320",
   "metadata": {},
   "outputs": [
    {
     "name": "stdout",
     "output_type": "stream",
     "text": [
      "2323057227982592441500937982514410000\n",
      "<class 'int'>\n"
     ]
    }
   ],
   "source": [
    "var1_1 = (1234567890*1234567890)**2\n",
    "print(var1_1)\n",
    "print(type(var1_1))"
   ]
  },
  {
   "cell_type": "markdown",
   "id": "84090a30",
   "metadata": {},
   "source": [
    "### 變數的動態形別自動轉換"
   ]
  },
  {
   "cell_type": "code",
   "execution_count": null,
   "id": "8bcebe9a",
   "metadata": {},
   "outputs": [],
   "source": []
  }
 ],
 "metadata": {
  "kernelspec": {
   "display_name": "Python 3 (ipykernel)",
   "language": "python",
   "name": "python3"
  },
  "language_info": {
   "codemirror_mode": {
    "name": "ipython",
    "version": 3
   },
   "file_extension": ".py",
   "mimetype": "text/x-python",
   "name": "python",
   "nbconvert_exporter": "python",
   "pygments_lexer": "ipython3",
   "version": "3.9.7"
  }
 },
 "nbformat": 4,
 "nbformat_minor": 5
}
