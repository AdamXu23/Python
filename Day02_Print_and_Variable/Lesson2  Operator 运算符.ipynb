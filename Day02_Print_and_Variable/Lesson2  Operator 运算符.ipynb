{
 "cells": [
  {
   "cell_type": "markdown",
   "id": "072611e4",
   "metadata": {},
   "source": [
    "# 运算符"
   ]
  },
  {
   "cell_type": "markdown",
   "id": "5b33ebd8",
   "metadata": {},
   "source": [
    "## 1) 算术运算符"
   ]
  },
  {
   "cell_type": "markdown",
   "id": "057cf16a",
   "metadata": {},
   "source": [
    "|  运算符  |  描述  |\n",
    "|  :----:  |  :----:  |\n",
    "|  +  |  加  |\n",
    "|  -  |  减  |\n",
    "|  *  |  乘  |\n",
    "|  /  |  除  |\n",
    "|  %  |  取模  |\n",
    "|  **  |  幂  |\n",
    "|  //  |  取整除  |\n"
   ]
  },
  {
   "cell_type": "markdown",
   "id": "9bacd7d4",
   "metadata": {},
   "source": [
    "### 1. + (加) a + b"
   ]
  },
  {
   "cell_type": "code",
   "execution_count": 1,
   "id": "8d13ba2e",
   "metadata": {},
   "outputs": [
    {
     "name": "stdout",
     "output_type": "stream",
     "text": [
      "var1_1 = 13 \ttype: <class 'int'>\n"
     ]
    }
   ],
   "source": [
    "var1_1 =5+8\n",
    "print('var1_1 =',var1_1,'\\ttype:',type(var1_1))"
   ]
  },
  {
   "cell_type": "markdown",
   "id": "45078a97",
   "metadata": {},
   "source": [
    "### 2. - (減) a - b"
   ]
  },
  {
   "cell_type": "code",
   "execution_count": 2,
   "id": "04f208d0",
   "metadata": {},
   "outputs": [
    {
     "name": "stdout",
     "output_type": "stream",
     "text": [
      "var1_1 = 80 \ttype: <class 'int'>\n"
     ]
    }
   ],
   "source": [
    "var1_1 =90-10\n",
    "print('var1_1 =',var1_1,'\\ttype:',type(var1_1))"
   ]
  },
  {
   "cell_type": "markdown",
   "id": "a92411f6",
   "metadata": {},
   "source": [
    "### 3. * (乘) a * b ($a*b$)"
   ]
  },
  {
   "cell_type": "code",
   "execution_count": 3,
   "id": "6d76b15a",
   "metadata": {},
   "outputs": [
    {
     "name": "stdout",
     "output_type": "stream",
     "text": [
      "var1_1 = 28 \ttype: <class 'int'>\n"
     ]
    }
   ],
   "source": [
    "var1_1 =4*7\n",
    "print('var1_1 =',var1_1,'\\ttype:',type(var1_1))"
   ]
  },
  {
   "cell_type": "markdown",
   "id": "e7ccffa3",
   "metadata": {},
   "source": [
    "### 4. / (除法) a / b    ($\\frac{a}{b}$)"
   ]
  },
  {
   "cell_type": "code",
   "execution_count": 4,
   "id": "3f24e3f2",
   "metadata": {},
   "outputs": [
    {
     "name": "stdout",
     "output_type": "stream",
     "text": [
      "var1_1 = 3.5 \ttype: <class 'float'>\n"
     ]
    }
   ],
   "source": [
    "var1_1 =7/2\n",
    "print('var1_1 =',var1_1,'\\ttype:',type(var1_1))"
   ]
  },
  {
   "cell_type": "markdown",
   "id": "165fe4bc",
   "metadata": {},
   "source": [
    "### 5. % (取模) a % b"
   ]
  },
  {
   "cell_type": "code",
   "execution_count": 5,
   "id": "33a61b4d",
   "metadata": {},
   "outputs": [
    {
     "name": "stdout",
     "output_type": "stream",
     "text": [
      "var1_1 = 1 \ttype: <class 'int'>\n"
     ]
    }
   ],
   "source": [
    "var1_1 =7%2\n",
    "print('var1_1 =',var1_1,'\\ttype:',type(var1_1))"
   ]
  },
  {
   "cell_type": "markdown",
   "id": "bde27ad7",
   "metadata": {},
   "source": [
    "### 6. ** (幂)   a ** b   ($a^b$)"
   ]
  },
  {
   "cell_type": "code",
   "execution_count": 6,
   "id": "91b92da5",
   "metadata": {},
   "outputs": [
    {
     "name": "stdout",
     "output_type": "stream",
     "text": [
      "var1_1 = 81 \ttype: <class 'int'>\n"
     ]
    }
   ],
   "source": [
    "var1_1 =3**4\n",
    "print('var1_1 =',var1_1,'\\ttype:',type(var1_1))"
   ]
  },
  {
   "cell_type": "markdown",
   "id": "de4c3d4f",
   "metadata": {},
   "source": [
    "### 7. // (取整除) a // b"
   ]
  },
  {
   "cell_type": "code",
   "execution_count": 7,
   "id": "9cd80760",
   "metadata": {},
   "outputs": [
    {
     "name": "stdout",
     "output_type": "stream",
     "text": [
      "var1_1 = 3 \ttype: <class 'int'>\n"
     ]
    }
   ],
   "source": [
    "var1_1 =7//2\n",
    "print('var1_1 =',var1_1,'\\ttype:',type(var1_1))"
   ]
  },
  {
   "cell_type": "markdown",
   "id": "e63db45a",
   "metadata": {},
   "source": [
    "## 2) 比较运算符"
   ]
  },
  {
   "cell_type": "markdown",
   "id": "8a6da588",
   "metadata": {},
   "source": [
    "|  运算符  |  描述  |\n",
    "|  :----:  |  :----:  |\n",
    "|  ==  |  等于  |\n",
    "|  !=  |  不等于  |\n",
    "|  >  |  大于  |\n",
    "|  <  |  小于  |\n",
    "|  >=  |  大于等于  |\n",
    "|  <=  |  小于等于  |"
   ]
  },
  {
   "cell_type": "markdown",
   "id": "28b272b8",
   "metadata": {},
   "source": [
    "### 1. == (等于) a == b"
   ]
  },
  {
   "cell_type": "code",
   "execution_count": 8,
   "id": "a714d6fc",
   "metadata": {},
   "outputs": [
    {
     "name": "stdout",
     "output_type": "stream",
     "text": [
      "var1(20)==var2(30) => 0 \n",
      "var1(20)==var2(20) => 1 \n"
     ]
    }
   ],
   "source": [
    "var1=20\n",
    "var2=30\n",
    "var3= var1==var2\n",
    "print(\"var1(%d)==var2(%d) => %d \"%(var1,var2,var3))\n",
    "var1=20\n",
    "var2=20\n",
    "var3= var1==var2\n",
    "print(\"var1(%d)==var2(%d) => %d \"%(var1,var2,var3))"
   ]
  },
  {
   "cell_type": "markdown",
   "id": "52ec9583",
   "metadata": {},
   "source": [
    "### 2. != (不等于) a != b"
   ]
  },
  {
   "cell_type": "code",
   "execution_count": 9,
   "id": "9b64203a",
   "metadata": {},
   "outputs": [
    {
     "name": "stdout",
     "output_type": "stream",
     "text": [
      "var1(20)!=var2(30) => 1 \n",
      "var1(20)!=var2(20) => 0 \n"
     ]
    }
   ],
   "source": [
    "var1=20\n",
    "var2=30\n",
    "var3= var1!=var2\n",
    "print(\"var1(%d)!=var2(%d) => %d \"%(var1,var2,var3))\n",
    "var1=20\n",
    "var2=20\n",
    "var3= var1!=var2\n",
    "print(\"var1(%d)!=var2(%d) => %d \"%(var1,var2,var3))"
   ]
  },
  {
   "cell_type": "markdown",
   "id": "291a04f0",
   "metadata": {},
   "source": [
    "### 3. < (大于) a < b"
   ]
  },
  {
   "cell_type": "code",
   "execution_count": 10,
   "id": "711b287c",
   "metadata": {},
   "outputs": [
    {
     "name": "stdout",
     "output_type": "stream",
     "text": [
      "var1(20)<var2(30) => 1 \n",
      "var1(20)<var2(20) => 0 \n",
      "var1(20)<var2(10) => 0 \n"
     ]
    }
   ],
   "source": [
    "var1=20\n",
    "var2=30\n",
    "var3= var1<var2\n",
    "print(\"var1(%d)<var2(%d) => %d \"%(var1,var2,var3))\n",
    "var2=20\n",
    "var3= var1<var2\n",
    "print(\"var1(%d)<var2(%d) => %d \"%(var1,var2,var3))\n",
    "var2=10\n",
    "var3= var1<var2\n",
    "print(\"var1(%d)<var2(%d) => %d \"%(var1,var2,var3))"
   ]
  },
  {
   "cell_type": "markdown",
   "id": "34b294b9",
   "metadata": {},
   "source": [
    "### 4. > (小于) a > b"
   ]
  },
  {
   "cell_type": "code",
   "execution_count": 11,
   "id": "7a0bc7cd",
   "metadata": {},
   "outputs": [
    {
     "name": "stdout",
     "output_type": "stream",
     "text": [
      "var1(20)>var2(30) => 0 \n",
      "var1(20)>var2(20) => 0 \n",
      "var1(20)>var2(10) => 1 \n"
     ]
    }
   ],
   "source": [
    "var1=20\n",
    "var2=30\n",
    "var3= var1>var2\n",
    "print(\"var1(%d)>var2(%d) => %d \"%(var1,var2,var3))\n",
    "var2=20\n",
    "var3= var1>var2\n",
    "print(\"var1(%d)>var2(%d) => %d \"%(var1,var2,var3))\n",
    "var2=10\n",
    "var3= var1>var2\n",
    "print(\"var1(%d)>var2(%d) => %d \"%(var1,var2,var3))"
   ]
  },
  {
   "cell_type": "markdown",
   "id": "d9ce5fb7",
   "metadata": {},
   "source": [
    "### 5. >= (大于等于) a >= b"
   ]
  },
  {
   "cell_type": "code",
   "execution_count": 12,
   "id": "2747b982",
   "metadata": {},
   "outputs": [
    {
     "name": "stdout",
     "output_type": "stream",
     "text": [
      "var1(20)>=var2(30) => 0 \n",
      "var1(20)>=var2(20) => 1 \n",
      "var1(20)>=var2(10) => 1 \n"
     ]
    }
   ],
   "source": [
    "var1=20\n",
    "var2=30\n",
    "var3= var1>=var2\n",
    "print(\"var1(%d)>=var2(%d) => %d \"%(var1,var2,var3))\n",
    "var2=20\n",
    "var3= var1>=var2\n",
    "print(\"var1(%d)>=var2(%d) => %d \"%(var1,var2,var3))\n",
    "var2=10\n",
    "var3= var1>=var2\n",
    "print(\"var1(%d)>=var2(%d) => %d \"%(var1,var2,var3))"
   ]
  },
  {
   "cell_type": "markdown",
   "id": "fc4d0ecb",
   "metadata": {},
   "source": [
    "### 6. <= (小于等于) a <= b"
   ]
  },
  {
   "cell_type": "code",
   "execution_count": 13,
   "id": "e60846ba",
   "metadata": {},
   "outputs": [
    {
     "name": "stdout",
     "output_type": "stream",
     "text": [
      "var1(20)>=var2(30) => 1 \n",
      "var1(20)>=var2(20) => 1 \n",
      "var1(20)>=var2(10) => 0 \n"
     ]
    }
   ],
   "source": [
    "var1=20\n",
    "var2=30\n",
    "var3= var1<=var2\n",
    "print(\"var1(%d)>=var2(%d) => %d \"%(var1,var2,var3))\n",
    "var2=20\n",
    "var3= var1<=var2\n",
    "print(\"var1(%d)>=var2(%d) => %d \"%(var1,var2,var3))\n",
    "var2=10\n",
    "var3= var1<=var2\n",
    "print(\"var1(%d)>=var2(%d) => %d \"%(var1,var2,var3))"
   ]
  },
  {
   "cell_type": "markdown",
   "id": "24786749",
   "metadata": {},
   "source": [
    "## 3) 赋值运算符"
   ]
  },
  {
   "cell_type": "markdown",
   "id": "c0e4860a",
   "metadata": {},
   "source": [
    "|  运算符  |  描述  |\n",
    "|  :----:  |  :----:  |\n",
    "|  =  |  一般赋值运算符  |\n",
    "|  +=  |  加法赋值运算符  |\n",
    "|  -=  |  减法赋值运算符  |\n",
    "|  *=  |  乘法赋值运算符  |\n",
    "|  /=  |  除法赋值运算符  |\n",
    "|  %=  |  取模赋值运算符  |\n",
    "|  **= |  幂赋值运算符  |\n",
    "|  //= |  取整除赋值运算符  |"
   ]
  },
  {
   "cell_type": "markdown",
   "id": "1c429964",
   "metadata": {},
   "source": [
    "### 1. = (一般赋值运算符)"
   ]
  },
  {
   "cell_type": "code",
   "execution_count": 14,
   "id": "9feb7743",
   "metadata": {},
   "outputs": [
    {
     "name": "stdout",
     "output_type": "stream",
     "text": [
      "var1 = 20\n",
      "var2 = 30\n",
      "var1 = var2 => var1 = 30 \n"
     ]
    }
   ],
   "source": [
    "var1=20\n",
    "print(\"var1 = %d\"%(var1))\n",
    "var2=30\n",
    "print(\"var2 = %d\"%(var2))\n",
    "var1=var2\n",
    "print(\"var1 = var2 => var1 = %d \"%(var1))"
   ]
  },
  {
   "cell_type": "markdown",
   "id": "58a27793",
   "metadata": {},
   "source": [
    "### 2. += (加法赋值运算符)"
   ]
  },
  {
   "cell_type": "code",
   "execution_count": 15,
   "id": "c69c1040",
   "metadata": {},
   "outputs": [
    {
     "name": "stdout",
     "output_type": "stream",
     "text": [
      "var1 = 20\n",
      "var2 = 30\n",
      "var1 += var2 => var1 = 50 \n"
     ]
    }
   ],
   "source": [
    "var1=20\n",
    "print(\"var1 = %d\"%(var1))\n",
    "var2=30\n",
    "print(\"var2 = %d\"%(var2))\n",
    "var1+=var2\n",
    "print(\"var1 += var2 => var1 = %d \"%(var1))"
   ]
  },
  {
   "cell_type": "markdown",
   "id": "f8f705d1",
   "metadata": {},
   "source": [
    "### 3. -= (减法赋值运算符)"
   ]
  },
  {
   "cell_type": "code",
   "execution_count": 16,
   "id": "afcec053",
   "metadata": {},
   "outputs": [
    {
     "name": "stdout",
     "output_type": "stream",
     "text": [
      "var1 = 20\n",
      "var2 = 30\n",
      "var1 -= var2 => var1 = -10 \n"
     ]
    }
   ],
   "source": [
    "var1=20\n",
    "print(\"var1 = %d\"%(var1))\n",
    "var2=30\n",
    "print(\"var2 = %d\"%(var2))\n",
    "var1-=var2\n",
    "print(\"var1 -= var2 => var1 = %d \"%(var1))"
   ]
  },
  {
   "cell_type": "markdown",
   "id": "f4c8f5ea",
   "metadata": {},
   "source": [
    "### 4. *= (乘法赋值运算符)"
   ]
  },
  {
   "cell_type": "code",
   "execution_count": 17,
   "id": "d11d2f96",
   "metadata": {},
   "outputs": [
    {
     "name": "stdout",
     "output_type": "stream",
     "text": [
      "var1 = 20\n",
      "var2 = 30\n",
      "var1 *= var2 => var1 = 600 \n"
     ]
    }
   ],
   "source": [
    "var1=20\n",
    "print(\"var1 = %d\"%(var1))\n",
    "var2=30\n",
    "print(\"var2 = %d\"%(var2))\n",
    "var1*=var2\n",
    "print(\"var1 *= var2 => var1 = %d \"%(var1))"
   ]
  },
  {
   "cell_type": "markdown",
   "id": "540ae530",
   "metadata": {},
   "source": [
    "### 5. /= (除法赋值运算符)"
   ]
  },
  {
   "cell_type": "code",
   "execution_count": 18,
   "id": "0d2a7a9c",
   "metadata": {},
   "outputs": [
    {
     "name": "stdout",
     "output_type": "stream",
     "text": [
      "var1 = 7\n",
      "var2 = 3\n",
      "var1 /= var2 => var1 = 2 \n"
     ]
    }
   ],
   "source": [
    "var1=7\n",
    "print(\"var1 = %d\"%(var1))\n",
    "var2=3\n",
    "print(\"var2 = %d\"%(var2))\n",
    "var1/=var2\n",
    "print(\"var1 /= var2 => var1 = %d \"%(var1))"
   ]
  },
  {
   "cell_type": "markdown",
   "id": "704f275a",
   "metadata": {},
   "source": [
    "### 6. %= (取模赋值运算符)"
   ]
  },
  {
   "cell_type": "code",
   "execution_count": 19,
   "id": "4b22b48c",
   "metadata": {},
   "outputs": [
    {
     "name": "stdout",
     "output_type": "stream",
     "text": [
      "var1 = 7\n",
      "var2 = 3\n",
      "var1 %= var2 => var1 = 1\n"
     ]
    }
   ],
   "source": [
    "var1=7\n",
    "print(\"var1 = %d\"%(var1))\n",
    "var2=3\n",
    "print(\"var2 = %d\"%(var2))\n",
    "var1%=var2\n",
    "print(\"var1 %= var2 => var1 =\",var1)"
   ]
  },
  {
   "cell_type": "markdown",
   "id": "1bf8481d",
   "metadata": {},
   "source": [
    "### 7. **= (幂赋值运算符)"
   ]
  },
  {
   "cell_type": "code",
   "execution_count": 20,
   "id": "8669674d",
   "metadata": {},
   "outputs": [
    {
     "name": "stdout",
     "output_type": "stream",
     "text": [
      "var1 = 7\n",
      "var2 = 3\n",
      "var1 **= var2 => var1 = 343 \n"
     ]
    }
   ],
   "source": [
    "var1=7\n",
    "print(\"var1 = %d\"%(var1))\n",
    "var2=3\n",
    "print(\"var2 = %d\"%(var2))\n",
    "var1**=var2\n",
    "print(\"var1 **= var2 => var1 = %d \"%(var1))"
   ]
  },
  {
   "cell_type": "markdown",
   "id": "79e06fce",
   "metadata": {},
   "source": [
    "### 8. //= (取整除赋值运算符)"
   ]
  },
  {
   "cell_type": "code",
   "execution_count": 21,
   "id": "f8f675e6",
   "metadata": {},
   "outputs": [
    {
     "name": "stdout",
     "output_type": "stream",
     "text": [
      "var1 = 7\n",
      "var2 = 3\n",
      "var1 //= var2 => var1 = 2 \n"
     ]
    }
   ],
   "source": [
    "var1=7\n",
    "print(\"var1 = %d\"%(var1))\n",
    "var2=3\n",
    "print(\"var2 = %d\"%(var2))\n",
    "var1//=var2\n",
    "print(\"var1 //= var2 => var1 = %d \"%(var1))"
   ]
  },
  {
   "cell_type": "markdown",
   "id": "638aa2f1",
   "metadata": {},
   "source": [
    "## 3) 位运算符"
   ]
  },
  {
   "cell_type": "markdown",
   "id": "154d1f97",
   "metadata": {},
   "source": [
    "|  运算符  |  描述  |\n",
    "|  :----:  |  :----:  |\n",
    "|  &  |  按位与运算符  |\n",
    "|  I  |  按位或运算符  |\n",
    "|  ^  |  按位异或运算符  |\n",
    "|  ~  |  按位取反运算符  |\n",
    "|  <<  |  左移动运算符  |\n",
    "|  >> |  右移动运算符  |"
   ]
  },
  {
   "cell_type": "code",
   "execution_count": 22,
   "id": "87f20ae1",
   "metadata": {},
   "outputs": [],
   "source": [
    "var_1 = 30\n",
    "var_2 = 16\n",
    "var_3 = 0"
   ]
  },
  {
   "cell_type": "markdown",
   "id": "8b8b67fc",
   "metadata": {},
   "source": [
    "### 1. & (按位与运算符)"
   ]
  },
  {
   "cell_type": "code",
   "execution_count": 23,
   "id": "80943d87",
   "metadata": {},
   "outputs": [
    {
     "name": "stdout",
     "output_type": "stream",
     "text": [
      "var_1(30) & var_2(16) => var_3 = 16 \n"
     ]
    }
   ],
   "source": [
    "var_3 = var_1 & var_2\n",
    "print(\"var_1(%d) & var_2(%d) => var_3 = %d \"%(var_1,var_2,var_3))"
   ]
  },
  {
   "cell_type": "markdown",
   "id": "b790bf41",
   "metadata": {},
   "source": [
    "### 2. | (按位或运算符)"
   ]
  },
  {
   "cell_type": "code",
   "execution_count": 24,
   "id": "e820aea6",
   "metadata": {},
   "outputs": [
    {
     "name": "stdout",
     "output_type": "stream",
     "text": [
      "var_1(30) | var_2(16) => var_3 = 30 \n"
     ]
    }
   ],
   "source": [
    "var_3 = var_1 | var_2\n",
    "print(\"var_1(%d) | var_2(%d) => var_3 = %d \"%(var_1,var_2,var_3))"
   ]
  },
  {
   "cell_type": "markdown",
   "id": "d9ffbe0a",
   "metadata": {},
   "source": [
    "### 3. ^ (按位异或运算符)"
   ]
  },
  {
   "cell_type": "code",
   "execution_count": 25,
   "id": "5f389246",
   "metadata": {},
   "outputs": [
    {
     "name": "stdout",
     "output_type": "stream",
     "text": [
      "var_1(30) ^ var_2(16) => var_3 = 14 \n"
     ]
    }
   ],
   "source": [
    "var_3 = var_1 ^ var_2\n",
    "print(\"var_1(%d) ^ var_2(%d) => var_3 = %d \"%(var_1,var_2,var_3))"
   ]
  },
  {
   "cell_type": "markdown",
   "id": "bc5db251",
   "metadata": {},
   "source": [
    "### 4. ~ (按位取反运算符)"
   ]
  },
  {
   "cell_type": "code",
   "execution_count": 26,
   "id": "3a637f22",
   "metadata": {},
   "outputs": [
    {
     "name": "stdout",
     "output_type": "stream",
     "text": [
      "var_3 = ~var_1(30) => var_3 = -31 \n"
     ]
    }
   ],
   "source": [
    "var_3 = ~var_1\n",
    "print(\"var_3 = ~var_1(%d) => var_3 = %d \"%(var_1,var_3))"
   ]
  },
  {
   "cell_type": "markdown",
   "id": "5dba7aed",
   "metadata": {},
   "source": [
    "### 5. << (左移动运算符)"
   ]
  },
  {
   "cell_type": "code",
   "execution_count": 27,
   "id": "a953c8ce",
   "metadata": {},
   "outputs": [
    {
     "name": "stdout",
     "output_type": "stream",
     "text": [
      "var_3 = var_1(30) << 2 => var_3 = 120 \n"
     ]
    }
   ],
   "source": [
    "var_3 = var_1 << 2\n",
    "print(\"var_3 = var_1(%d) << 2 => var_3 = %d \"%(var_1,var_3))"
   ]
  },
  {
   "cell_type": "code",
   "execution_count": null,
   "id": "2ef61b5d",
   "metadata": {},
   "outputs": [],
   "source": []
  }
 ],
 "metadata": {
  "kernelspec": {
   "display_name": "Python 3 (ipykernel)",
   "language": "python",
   "name": "python3"
  },
  "language_info": {
   "codemirror_mode": {
    "name": "ipython",
    "version": 3
   },
   "file_extension": ".py",
   "mimetype": "text/x-python",
   "name": "python",
   "nbconvert_exporter": "python",
   "pygments_lexer": "ipython3",
   "version": "3.9.7"
  }
 },
 "nbformat": 4,
 "nbformat_minor": 5
}
