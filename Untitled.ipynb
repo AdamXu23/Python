{
 "cells": [
  {
   "cell_type": "code",
   "execution_count": 1,
   "id": "831ebf11",
   "metadata": {},
   "outputs": [],
   "source": [
    "import matplotlib.pyplot as plt\n",
    "import numpy as np"
   ]
  },
  {
   "cell_type": "code",
   "execution_count": 11,
   "id": "a9e78617",
   "metadata": {
    "scrolled": true
   },
   "outputs": [
    {
     "name": "stdout",
     "output_type": "stream",
     "text": [
      "[-0.05398929  0.45248784 -1.6808227  -1.447118   -0.65621695 -0.52931469\n",
      "  0.90237846  0.00975365  0.11272559 -0.47480274 -0.08074401 -0.37116743\n",
      " -1.19703175  0.45508597 -0.43930277 -0.17400885  0.79767709  0.62740982\n",
      " -0.10906795 -0.45318049  1.69376917 -1.41281737  0.30353411 -1.31837489\n",
      "  0.21485657 -1.34052588  2.72244426 -0.1435849  -1.97791448  0.4360414\n",
      "  0.30083535  0.66770336 -0.97329675  0.63360936  0.93787543  0.18281388\n",
      "  0.5569346  -0.94021011  1.23346382 -0.53561087 -0.77340724 -0.11387806\n",
      " -1.49541777 -1.56454925  0.61126918 -0.7898971  -1.10433611  0.11625347\n",
      "  0.81342431  0.45700751  0.04197857  0.04562886  0.54341919  1.16110595\n",
      "  0.20757437 -1.70762654  0.05798177  0.52102096 -0.88954958  2.08844036\n",
      " -0.45521746  0.58891527  2.04227032 -0.80083184 -0.86169085  0.06184912\n",
      "  0.23687361 -1.2957121   0.20943669  0.05574412  0.89907872  0.6525201\n",
      "  0.44310065 -0.94695671  0.15934525  0.69794207  1.877468   -1.00824459\n",
      "  0.78531877  1.31238853 -0.22840784  1.12594162  1.34000885  3.11841168\n",
      " -0.63625747  1.66534489  0.23415547 -0.71674592 -0.73922214 -1.04288102\n",
      " -0.09755815 -2.34744862 -0.35484591  0.86073924 -1.01653021 -1.52933664\n",
      " -0.62949506 -2.1588028   0.00513014  0.29313442]\n"
     ]
    }
   ],
   "source": [
    "# Generate a random normal distribution of size m 1-D array.\n",
    "# m (dimension) will be given\n",
    "m = 100\n",
    "s = np.random.normal(0,1,m)\n",
    "print(s)"
   ]
  },
  {
   "cell_type": "code",
   "execution_count": 12,
   "id": "500b3f92",
   "metadata": {},
   "outputs": [
    {
     "name": "stdout",
     "output_type": "stream",
     "text": [
      "-0.03042328115225787\n"
     ]
    }
   ],
   "source": [
    "#mean 平均\n",
    "print(np.mean(s))"
   ]
  },
  {
   "cell_type": "code",
   "execution_count": 13,
   "id": "0844b733",
   "metadata": {},
   "outputs": [
    {
     "name": "stdout",
     "output_type": "stream",
     "text": [
      "1.0251525310374205\n"
     ]
    }
   ],
   "source": [
    "#standard deviation標準差\n",
    "print(np.std(s))"
   ]
  },
  {
   "cell_type": "code",
   "execution_count": 28,
   "id": "71d723ce",
   "metadata": {},
   "outputs": [
    {
     "data": {
      "image/png": "[encoded data removed]",
      "text/plain": [
       "<Figure size 432x288 with 1 Axes>"
      ]
     },
     "metadata": {
      "needs_background": "light"
     },
     "output_type": "display_data"
    }
   ],
   "source": [
    "# Visualization of Normal Distribution of this 1-D array (plot a figure)\n",
    "plt.hist(s, m)\n",
    "plt.show()"
   ]
  },
  {
   "cell_type": "code",
   "execution_count": 21,
   "id": "3da3c143",
   "metadata": {
    "scrolled": true
   },
   "outputs": [
    {
     "name": "stdout",
     "output_type": "stream",
     "text": [
      "[[-0.05398929  0.45248784 -1.6808227  -1.447118   -0.65621695 -0.52931469\n",
      "   0.90237846  0.00975365  0.11272559 -0.47480274]\n",
      " [-0.08074401 -0.37116743 -1.19703175  0.45508597 -0.43930277 -0.17400885\n",
      "   0.79767709  0.62740982 -0.10906795 -0.45318049]\n",
      " [ 1.69376917 -1.41281737  0.30353411 -1.31837489  0.21485657 -1.34052588\n",
      "   2.72244426 -0.1435849  -1.97791448  0.4360414 ]\n",
      " [ 0.30083535  0.66770336 -0.97329675  0.63360936  0.93787543  0.18281388\n",
      "   0.5569346  -0.94021011  1.23346382 -0.53561087]\n",
      " [-0.77340724 -0.11387806 -1.49541777 -1.56454925  0.61126918 -0.7898971\n",
      "  -1.10433611  0.11625347  0.81342431  0.45700751]\n",
      " [ 0.04197857  0.04562886  0.54341919  1.16110595  0.20757437 -1.70762654\n",
      "   0.05798177  0.52102096 -0.88954958  2.08844036]\n",
      " [-0.45521746  0.58891527  2.04227032 -0.80083184 -0.86169085  0.06184912\n",
      "   0.23687361 -1.2957121   0.20943669  0.05574412]\n",
      " [ 0.89907872  0.6525201   0.44310065 -0.94695671  0.15934525  0.69794207\n",
      "   1.877468   -1.00824459  0.78531877  1.31238853]\n",
      " [-0.22840784  1.12594162  1.34000885  3.11841168 -0.63625747  1.66534489\n",
      "   0.23415547 -0.71674592 -0.73922214 -1.04288102]\n",
      " [-0.09755815 -2.34744862 -0.35484591  0.86073924 -1.01653021 -1.52933664\n",
      "  -0.62949506 -2.1588028   0.00513014  0.29313442]]\n"
     ]
    }
   ],
   "source": [
    "# Reshape this 1-D array to nxn array and print\n",
    "b = s.reshape(10,10)\n",
    "print(b)"
   ]
  },
  {
   "cell_type": "code",
   "execution_count": 22,
   "id": "14b56252",
   "metadata": {},
   "outputs": [
    {
     "name": "stdout",
     "output_type": "stream",
     "text": [
      "-1553.6463940338906\n"
     ]
    }
   ],
   "source": [
    "# Determinant value\n",
    "print(np.linalg.det(b))"
   ]
  },
  {
   "cell_type": "code",
   "execution_count": 23,
   "id": "248bac4c",
   "metadata": {},
   "outputs": [
    {
     "name": "stdout",
     "output_type": "stream",
     "text": [
      "[[ 0.70188701 -1.17836184 -0.28301109  0.10583255 -1.35186662  0.03959017\n",
      "  -0.61872577 -0.05604348 -0.55426034  0.15174588]\n",
      " [ 0.56457721 -0.56986218 -0.11258887  0.13439901 -0.23523031  0.21876814\n",
      "  -0.05929814 -0.09002904  0.06033181 -0.11637432]\n",
      " [-0.29186043  0.12880051  0.00243104  0.10417048 -0.2378087   0.01757619\n",
      "   0.35650315 -0.13747511 -0.22471603 -0.09313881]\n",
      " [-0.09160771  0.17260523 -0.07702662  0.13870956 -0.14387832  0.13152714\n",
      "  -0.04627722 -0.03008139  0.03678192  0.04807041]\n",
      " [-0.54669482  0.15456449  0.34695708  0.29174065  0.70258834 -0.0544651\n",
      "   0.09032103 -0.07775745  0.23268467 -0.17814445]\n",
      " [-0.20946509  0.06142961  0.03144401 -0.39782917  0.40995268 -0.29365624\n",
      "  -0.26687695  0.38757736  0.35166744  0.00169107]\n",
      " [-0.34639621  0.82397238  0.19876002  0.12787386  0.33863925  0.00172099\n",
      "   0.35776676  0.12288825  0.1087961  -0.1206021 ]\n",
      " [-0.13466486  0.3637278  -0.14940351 -0.04755177 -0.38462839  0.06375719\n",
      "   0.03126962 -0.1072868  -0.3601312  -0.18188989]\n",
      " [-0.18154102  0.38365941 -0.32980347  0.32951416 -0.57580426  0.01706058\n",
      "   0.23527273  0.01108881 -0.58042774  0.00853537]\n",
      " [-0.05061508 -0.00867798 -0.06715572 -0.3149054   0.28084851  0.15216892\n",
      "  -0.19801513  0.40829996  0.1518584   0.06845217]]\n"
     ]
    }
   ],
   "source": [
    "# Find the inverse of a matrix and print.\n",
    "y = np.linalg.inv(b)\n",
    "print(y)"
   ]
  },
  {
   "cell_type": "code",
   "execution_count": 26,
   "id": "5a81edfb",
   "metadata": {},
   "outputs": [
    {
     "name": "stdout",
     "output_type": "stream",
     "text": [
      "[0.93499905 0.89358969 0.0766129  0.31202966 0.10743053 0.97584956\n",
      " 0.73627823 0.76907532 0.63320369 0.33094532]\n"
     ]
    }
   ],
   "source": [
    "# Give a nx1 b constant array.\n",
    "# ● b will be given\n",
    "ed = np.random.rand(10)\n",
    "print(ed)"
   ]
  },
  {
   "cell_type": "code",
   "execution_count": 27,
   "id": "98f76e10",
   "metadata": {},
   "outputs": [
    {
     "name": "stdout",
     "output_type": "stream",
     "text": [
      "[-1.29136148  0.12697053 -0.14985817  0.20085054 -0.1380183  -0.18038789\n",
      "  0.89250433 -0.15399581  0.02248407  0.30721168]\n"
     ]
    }
   ],
   "source": [
    "# Solve the nxn linear equations and print the result.\n",
    "r = np.linalg.solve(b,ed)\n",
    "print(r)"
   ]
  },
  {
   "cell_type": "code",
   "execution_count": null,
   "id": "a201960d",
   "metadata": {},
   "outputs": [],
   "source": []
  }
 ],
 "metadata": {
  "kernelspec": {
   "display_name": "Python 3 (ipykernel)",
   "language": "python",
   "name": "python3"
  },
  "language_info": {
   "codemirror_mode": {
    "name": "ipython",
    "version": 3
   },
   "file_extension": ".py",
   "mimetype": "text/x-python",
   "name": "python",
   "nbconvert_exporter": "python",
   "pygments_lexer": "ipython3",
   "version": "3.9.7"
  }
 },
 "nbformat": 4,
 "nbformat_minor": 5
}
